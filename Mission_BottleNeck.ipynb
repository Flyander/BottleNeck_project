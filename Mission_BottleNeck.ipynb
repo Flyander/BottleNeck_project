{
 "cells": [
  {
   "cell_type": "markdown",
   "id": "56ec5153",
   "metadata": {},
   "source": [
    "## Scénario\n",
    "Aujourd’hui est un grand jour, vous commencez votre mission chez BottleNeck, un marchand de vin très prestigieux. \n",
    "Le responsable du projet vous explique les enjeux de votre première mission :\n",
    "\n",
    " “Actuellement, pour gérer nos ressources, nos clients, etc., on utilise un ERP qui n’est absolument pas relié à notre site de vente en ligne. Pour être tout à fait honnête, les outils en place sont vraiment artisanaux et dans ces conditions, la gestion des stocks est vraiment complexe et notre visibilité en termes d’analyse des ventes sur le Net est vraiment réduite, car très peu de personnes ont accès au back-office. En attendant une solution plus centralisée, un rapprochement entre les 2 bases, même manuel, pourrait être très utile…\n",
    "\n",
    "Ta première mission se passe en 3 points.\n",
    "\n",
    "* Premièrement, j’ai besoin que tu rapproches deux exports : un export de l’ERP contenant les références produit, leur prix de vente et leur état de stock, et un export d’une table de l’outil de CMS contenant les informations des produits commercialisés en ligne (nom, description, nombre de ventes...), il sont présentées pers les deux fichiers (1.xls, 2.xlsx). En plus de ces 2 exports, tu vas bénéficier d’une aide précieuse car Sylvie, notre ancienne stagiaire, a réalisé un travail de fourmi. Elle a créé un tableau Excel qui permet d’établir le lien entre la référence du produit dans l’ERP (product_id) et la référence du même produit dans la base de la boutique en ligne (SKU) les données sont présentées par le fichier 3.xls ( En fait, la colonne id_web dans son fichier correspond au SKU des produits dans la boutique en ligne.)\n",
    "\n",
    "* Deuxièmement, une fois le rapprochement effectué, je souhaiterais avoir le chiffre d’affaires par produit, ainsi que le total du chiffre d’affaires réalisé en ligne.\n",
    "\n",
    "* Troisièmement et pour finir, je me demande s’il n’y a pas eu des erreurs de saisie dans certains prix des produits. J'aimerais que tu effectues une analyse sur cette variable afin de détecter d’éventuelles valeurs aberrantes, de les lister et d’en faire une représentation graphique pour plus de lisibilité.\n",
    "\n",
    "**Nous voudrions présenter tes résultats lors de la prochaine réunion de COPIL. Cela permettrait de montrer nos progrès. Je peux t’épargner le travail d’une présentation par slides, il me faut juste un notebook que tu présenteras à l’assemblée pour expliquer ta démarche.**”"
   ]
  },
  {
   "cell_type": "code",
   "execution_count": 111,
   "id": "b0566ea7",
   "metadata": {},
   "outputs": [],
   "source": [
    "import pandas as pd\n",
    "import numpy as np\n",
    "import matplotlib.pyplot as plt\n",
    "import seaborn as sns"
   ]
  },
  {
   "cell_type": "code",
   "execution_count": 112,
   "id": "732fa9e9",
   "metadata": {},
   "outputs": [
    {
     "name": "stderr",
     "output_type": "stream",
     "text": [
      "C:\\Users\\utilisateur\\anaconda3\\lib\\site-packages\\openpyxl\\worksheet\\_reader.py:312: UserWarning: Unknown extension is not supported and will be removed\n",
      "  warn(msg)\n"
     ]
    }
   ],
   "source": [
    "df_erp = pd.read_excel('data/1.xlsx')\n",
    "df_inter = pd.read_excel('data/2.xlsx')\n",
    "df_sku = pd.read_excel('data/3.xlsx')"
   ]
  },
  {
   "cell_type": "code",
   "execution_count": 113,
   "id": "77fc8f03",
   "metadata": {},
   "outputs": [
    {
     "data": {
      "text/html": [
       "<div>\n",
       "<style scoped>\n",
       "    .dataframe tbody tr th:only-of-type {\n",
       "        vertical-align: middle;\n",
       "    }\n",
       "\n",
       "    .dataframe tbody tr th {\n",
       "        vertical-align: top;\n",
       "    }\n",
       "\n",
       "    .dataframe thead th {\n",
       "        text-align: right;\n",
       "    }\n",
       "</style>\n",
       "<table border=\"1\" class=\"dataframe\">\n",
       "  <thead>\n",
       "    <tr style=\"text-align: right;\">\n",
       "      <th></th>\n",
       "      <th>product_id</th>\n",
       "      <th>onsale_web</th>\n",
       "      <th>price</th>\n",
       "      <th>stock_quantity</th>\n",
       "      <th>stock_status</th>\n",
       "    </tr>\n",
       "  </thead>\n",
       "  <tbody>\n",
       "    <tr>\n",
       "      <th>0</th>\n",
       "      <td>3847</td>\n",
       "      <td>1</td>\n",
       "      <td>24.2</td>\n",
       "      <td>0</td>\n",
       "      <td>outofstock</td>\n",
       "    </tr>\n",
       "    <tr>\n",
       "      <th>1</th>\n",
       "      <td>3849</td>\n",
       "      <td>1</td>\n",
       "      <td>34.3</td>\n",
       "      <td>0</td>\n",
       "      <td>outofstock</td>\n",
       "    </tr>\n",
       "    <tr>\n",
       "      <th>2</th>\n",
       "      <td>3850</td>\n",
       "      <td>1</td>\n",
       "      <td>20.8</td>\n",
       "      <td>0</td>\n",
       "      <td>outofstock</td>\n",
       "    </tr>\n",
       "    <tr>\n",
       "      <th>3</th>\n",
       "      <td>4032</td>\n",
       "      <td>1</td>\n",
       "      <td>14.1</td>\n",
       "      <td>0</td>\n",
       "      <td>outofstock</td>\n",
       "    </tr>\n",
       "    <tr>\n",
       "      <th>4</th>\n",
       "      <td>4039</td>\n",
       "      <td>1</td>\n",
       "      <td>46.0</td>\n",
       "      <td>0</td>\n",
       "      <td>outofstock</td>\n",
       "    </tr>\n",
       "  </tbody>\n",
       "</table>\n",
       "</div>"
      ],
      "text/plain": [
       "   product_id  onsale_web  price  stock_quantity stock_status\n",
       "0        3847           1   24.2               0   outofstock\n",
       "1        3849           1   34.3               0   outofstock\n",
       "2        3850           1   20.8               0   outofstock\n",
       "3        4032           1   14.1               0   outofstock\n",
       "4        4039           1   46.0               0   outofstock"
      ]
     },
     "execution_count": 113,
     "metadata": {},
     "output_type": "execute_result"
    }
   ],
   "source": [
    "df_erp.head()"
   ]
  },
  {
   "cell_type": "code",
   "execution_count": 114,
   "id": "6622406f",
   "metadata": {},
   "outputs": [
    {
     "data": {
      "text/html": [
       "<div>\n",
       "<style scoped>\n",
       "    .dataframe tbody tr th:only-of-type {\n",
       "        vertical-align: middle;\n",
       "    }\n",
       "\n",
       "    .dataframe tbody tr th {\n",
       "        vertical-align: top;\n",
       "    }\n",
       "\n",
       "    .dataframe thead th {\n",
       "        text-align: right;\n",
       "    }\n",
       "</style>\n",
       "<table border=\"1\" class=\"dataframe\">\n",
       "  <thead>\n",
       "    <tr style=\"text-align: right;\">\n",
       "      <th></th>\n",
       "      <th>product_id</th>\n",
       "      <th>onsale_web</th>\n",
       "      <th>price</th>\n",
       "      <th>stock_quantity</th>\n",
       "      <th>stock_status</th>\n",
       "      <th>id_web</th>\n",
       "    </tr>\n",
       "  </thead>\n",
       "  <tbody>\n",
       "    <tr>\n",
       "      <th>0</th>\n",
       "      <td>3847</td>\n",
       "      <td>1</td>\n",
       "      <td>24.2</td>\n",
       "      <td>0</td>\n",
       "      <td>outofstock</td>\n",
       "      <td>15298</td>\n",
       "    </tr>\n",
       "    <tr>\n",
       "      <th>1</th>\n",
       "      <td>3849</td>\n",
       "      <td>1</td>\n",
       "      <td>34.3</td>\n",
       "      <td>0</td>\n",
       "      <td>outofstock</td>\n",
       "      <td>15296</td>\n",
       "    </tr>\n",
       "    <tr>\n",
       "      <th>2</th>\n",
       "      <td>3850</td>\n",
       "      <td>1</td>\n",
       "      <td>20.8</td>\n",
       "      <td>0</td>\n",
       "      <td>outofstock</td>\n",
       "      <td>15300</td>\n",
       "    </tr>\n",
       "    <tr>\n",
       "      <th>3</th>\n",
       "      <td>4032</td>\n",
       "      <td>1</td>\n",
       "      <td>14.1</td>\n",
       "      <td>0</td>\n",
       "      <td>outofstock</td>\n",
       "      <td>19814</td>\n",
       "    </tr>\n",
       "    <tr>\n",
       "      <th>4</th>\n",
       "      <td>4039</td>\n",
       "      <td>1</td>\n",
       "      <td>46.0</td>\n",
       "      <td>0</td>\n",
       "      <td>outofstock</td>\n",
       "      <td>19815</td>\n",
       "    </tr>\n",
       "  </tbody>\n",
       "</table>\n",
       "</div>"
      ],
      "text/plain": [
       "   product_id  onsale_web  price  stock_quantity stock_status id_web\n",
       "0        3847           1   24.2               0   outofstock  15298\n",
       "1        3849           1   34.3               0   outofstock  15296\n",
       "2        3850           1   20.8               0   outofstock  15300\n",
       "3        4032           1   14.1               0   outofstock  19814\n",
       "4        4039           1   46.0               0   outofstock  19815"
      ]
     },
     "execution_count": 114,
     "metadata": {},
     "output_type": "execute_result"
    }
   ],
   "source": [
    "df_merge = pd.merge(df_erp, df_inter, on='product_id', how='inner')\n",
    "df_merge.head()"
   ]
  },
  {
   "cell_type": "code",
   "execution_count": 115,
   "id": "1d19980c",
   "metadata": {},
   "outputs": [
    {
     "data": {
      "text/plain": [
       "Index(['sku', 'virtual', 'downloadable', 'rating_count', 'average_rating',\n",
       "       'total_sales', 'tax_status', 'tax_class', 'post_author', 'post_date',\n",
       "       'post_date_gmt', 'post_content', 'post_title', 'post_excerpt',\n",
       "       'post_status', 'comment_status', 'ping_status', 'post_password',\n",
       "       'post_name', 'post_modified', 'post_modified_gmt',\n",
       "       'post_content_filtered', 'post_parent', 'guid', 'menu_order',\n",
       "       'post_type', 'post_mime_type', 'comment_count'],\n",
       "      dtype='object')"
      ]
     },
     "execution_count": 115,
     "metadata": {},
     "output_type": "execute_result"
    }
   ],
   "source": [
    "df_merge.rename(columns={'id_web': 'sku'}, inplace=True)\n",
    "df_sku.columns"
   ]
  },
  {
   "cell_type": "code",
   "execution_count": 116,
   "id": "868558e1",
   "metadata": {},
   "outputs": [],
   "source": [
    "df_merge = pd.merge(df_merge, df_sku, on='sku', how='inner')\n",
    "df_merge.drop_duplicates(subset=['sku'], keep='first', inplace=True)"
   ]
  },
  {
   "cell_type": "code",
   "execution_count": 117,
   "id": "07f6587b",
   "metadata": {},
   "outputs": [
    {
     "data": {
      "text/plain": [
       "<bound method NDFrame.head of       product_id  onsale_web  price  stock_quantity stock_status      sku  \\\n",
       "0           3847           1   24.2               0   outofstock    15298   \n",
       "2           3849           1   34.3               0   outofstock    15296   \n",
       "4           3850           1   20.8               0   outofstock    15300   \n",
       "6           4032           1   14.1               0   outofstock    19814   \n",
       "8           4039           1   46.0               0   outofstock    19815   \n",
       "...          ...         ...    ...             ...          ...      ...   \n",
       "9153        6930           1    8.4              83      instock    16135   \n",
       "9155        7023           1   27.5              15      instock    15891   \n",
       "9157        7025           1   69.0               2      instock    15887   \n",
       "9159        7247           1   54.8              23      instock  13127-1   \n",
       "9161        7338           1   16.3              45      instock    16230   \n",
       "\n",
       "      virtual  downloadable  rating_count  average_rating  ...  \\\n",
       "0           0             0             0             0.0  ...   \n",
       "2           0             0             0             0.0  ...   \n",
       "4           0             0             0             0.0  ...   \n",
       "6           0             0             0             0.0  ...   \n",
       "8           0             0             0             0.0  ...   \n",
       "...       ...           ...           ...             ...  ...   \n",
       "9153        0             0             0             0.0  ...   \n",
       "9155        0             0             0             0.0  ...   \n",
       "9157        0             0             0             0.0  ...   \n",
       "9159        0             0             0             0.0  ...   \n",
       "9161        0             0             0             0.0  ...   \n",
       "\n",
       "                                              post_name       post_modified  \\\n",
       "0           pierre-jean-villa-saint-joseph-preface-2018 2019-12-30 09:30:29   \n",
       "2             pierre-jean-villa-saint-joseph-tilde-2017 2019-12-21 09:00:17   \n",
       "4     pierre-jean-villa-croze-hermitage-accroche-coe... 2020-06-26 18:15:03   \n",
       "6                     pierre-jean-villa-igp-gamine-2018 2020-01-04 16:36:01   \n",
       "8             pierre-jean-villa-cote-rotie-carmina-2017 2020-01-04 16:36:10   \n",
       "...                                                 ...                 ...   \n",
       "9153                    mouthes-le-bihan-aime-chai-2015 2020-08-26 17:35:03   \n",
       "9155         camin-larredya-jurancon-sec-la-virada-2018 2020-08-26 17:35:02   \n",
       "9157             jamet-cote-rotie-fructus-voluptas-2018 2020-08-14 18:15:03   \n",
       "9159     clos-du-mont-olivet-chateauneuf-du-pape-2007-2 2020-07-20 17:09:06   \n",
       "9161  domaine-saint-nicolas-fiefs-vendeens-blanc-les... 2020-08-13 10:45:03   \n",
       "\n",
       "       post_modified_gmt  post_content_filtered post_parent  \\\n",
       "0    2019-12-30 08:30:29                    NaN         0.0   \n",
       "2    2019-12-21 08:00:17                    NaN         0.0   \n",
       "4    2020-06-26 16:15:03                    NaN         0.0   \n",
       "6    2020-01-04 15:36:01                    NaN         0.0   \n",
       "8    2020-01-04 15:36:10                    NaN         0.0   \n",
       "...                  ...                    ...         ...   \n",
       "9153 2020-08-26 15:35:03                    NaN         0.0   \n",
       "9155 2020-08-26 15:35:02                    NaN         0.0   \n",
       "9157 2020-08-14 16:15:03                    NaN         0.0   \n",
       "9159 2020-07-20 15:09:06                    NaN         0.0   \n",
       "9161 2020-08-13 08:45:03                    NaN         0.0   \n",
       "\n",
       "                                                   guid  menu_order post_type  \\\n",
       "0     https://www.bottle-neck.fr/?post_type=product&...         0.0   product   \n",
       "2     https://www.bottle-neck.fr/?post_type=product&...         0.0   product   \n",
       "4     https://www.bottle-neck.fr/?post_type=product&...         0.0   product   \n",
       "6     https://www.bottle-neck.fr/?post_type=product&...         0.0   product   \n",
       "8     https://www.bottle-neck.fr/?post_type=product&...         0.0   product   \n",
       "...                                                 ...         ...       ...   \n",
       "9153  https://www.bottle-neck.fr/?post_type=product&...         0.0   product   \n",
       "9155  https://www.bottle-neck.fr/?post_type=product&...         0.0   product   \n",
       "9157  https://www.bottle-neck.fr/?post_type=product&...         0.0   product   \n",
       "9159  https://www.bottle-neck.fr/?post_type=product&...         0.0   product   \n",
       "9161  https://www.bottle-neck.fr/?post_type=product&...         0.0   product   \n",
       "\n",
       "     post_mime_type comment_count  \n",
       "0               NaN           0.0  \n",
       "2               NaN           0.0  \n",
       "4               NaN           0.0  \n",
       "6               NaN           0.0  \n",
       "8               NaN           0.0  \n",
       "...             ...           ...  \n",
       "9153            NaN           0.0  \n",
       "9155            NaN           0.0  \n",
       "9157            NaN           0.0  \n",
       "9159            NaN           0.0  \n",
       "9161            NaN           0.0  \n",
       "\n",
       "[715 rows x 33 columns]>"
      ]
     },
     "execution_count": 117,
     "metadata": {},
     "output_type": "execute_result"
    }
   ],
   "source": [
    "df_merge.head"
   ]
  },
  {
   "cell_type": "markdown",
   "id": "90dce629",
   "metadata": {},
   "source": [
    "<span style=\"color: orange;\">Maintenant que nous avons fusionnés nos Dataframe, nous allons rajouter une nouvelle colonne **Chiffre d'affaire**</span>"
   ]
  },
  {
   "cell_type": "code",
   "execution_count": 118,
   "id": "c604f7ba",
   "metadata": {},
   "outputs": [],
   "source": [
    "df_merge[\"CA\"] = df_merge[\"total_sales\"] * df_merge[\"price\"]\n",
    "df_merge[\"CA\"] = df_merge[\"CA\"].astype(float)"
   ]
  },
  {
   "cell_type": "code",
   "execution_count": 119,
   "id": "7b538b1f",
   "metadata": {},
   "outputs": [
    {
     "data": {
      "text/plain": [
       "0       145.2\n",
       "2         0.0\n",
       "4         0.0\n",
       "6        42.3\n",
       "8         0.0\n",
       "        ...  \n",
       "9153     42.0\n",
       "9155      0.0\n",
       "9157      0.0\n",
       "9159      0.0\n",
       "9161      0.0\n",
       "Name: CA, Length: 715, dtype: float64"
      ]
     },
     "execution_count": 119,
     "metadata": {},
     "output_type": "execute_result"
    }
   ],
   "source": [
    "df_merge[\"CA\"]"
   ]
  },
  {
   "cell_type": "code",
   "execution_count": 120,
   "id": "29ebe7f0",
   "metadata": {},
   "outputs": [
    {
     "name": "stdout",
     "output_type": "stream",
     "text": [
      "Le Chiffre d'affaire total est de 70568.6 €\n"
     ]
    }
   ],
   "source": [
    "ca_total = df_merge['CA'].sum()\n",
    "\n",
    "print(f\"Le Chiffre d'affaire total est de {ca_total} €\")"
   ]
  },
  {
   "cell_type": "code",
   "execution_count": 121,
   "id": "8d880113",
   "metadata": {},
   "outputs": [],
   "source": [
    "df_merge.to_excel('data/merge.xlsx', index=False)"
   ]
  },
  {
   "cell_type": "code",
   "execution_count": null,
   "id": "e8f2e28a",
   "metadata": {},
   "outputs": [],
   "source": []
  }
 ],
 "metadata": {
  "kernelspec": {
   "display_name": "Python 3",
   "language": "python",
   "name": "python3"
  },
  "language_info": {
   "codemirror_mode": {
    "name": "ipython",
    "version": 3
   },
   "file_extension": ".py",
   "mimetype": "text/x-python",
   "name": "python",
   "nbconvert_exporter": "python",
   "pygments_lexer": "ipython3",
   "version": "3.8.8"
  }
 },
 "nbformat": 4,
 "nbformat_minor": 5
}
