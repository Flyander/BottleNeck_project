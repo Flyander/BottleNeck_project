{
 "cells": [
  {
   "cell_type": "markdown",
   "id": "56ec5153",
   "metadata": {},
   "source": [
    "## Scénario\n",
    "Aujourd’hui est un grand jour, vous commencez votre mission chez BottleNeck, un marchand de vin très prestigieux. \n",
    "Le responsable du projet vous explique les enjeux de votre première mission :\n",
    "\n",
    " “Actuellement, pour gérer nos ressources, nos clients, etc., on utilise un ERP qui n’est absolument pas relié à notre site de vente en ligne. Pour être tout à fait honnête, les outils en place sont vraiment artisanaux et dans ces conditions, la gestion des stocks est vraiment complexe et notre visibilité en termes d’analyse des ventes sur le Net est vraiment réduite, car très peu de personnes ont accès au back-office. En attendant une solution plus centralisée, un rapprochement entre les 2 bases, même manuel, pourrait être très utile…\n",
    "\n",
    "Ta première mission se passe en 3 points.\n",
    "\n",
    "* Premièrement, j’ai besoin que tu rapproches deux exports : un export de l’ERP contenant les références produit, leur prix de vente et leur état de stock, et un export d’une table de l’outil de CMS contenant les informations des produits commercialisés en ligne (nom, description, nombre de ventes...), il sont présentées pers les deux fichiers (1.xls, 2.xlsx). En plus de ces 2 exports, tu vas bénéficier d’une aide précieuse car Sylvie, notre ancienne stagiaire, a réalisé un travail de fourmi. Elle a créé un tableau Excel qui permet d’établir le lien entre la référence du produit dans l’ERP (product_id) et la référence du même produit dans la base de la boutique en ligne (SKU) les données sont présentées par le fichier 3.xls ( En fait, la colonne id_web dans son fichier correspond au SKU des produits dans la boutique en ligne.)\n",
    "\n",
    "* Deuxièmement, une fois le rapprochement effectué, je souhaiterais avoir le chiffre d’affaires par produit, ainsi que le total du chiffre d’affaires réalisé en ligne.\n",
    "\n",
    "* Troisièmement et pour finir, je me demande s’il n’y a pas eu des erreurs de saisie dans certains prix des produits. J'aimerais que tu effectues une analyse sur cette variable afin de détecter d’éventuelles valeurs aberrantes, de les lister et d’en faire une représentation graphique pour plus de lisibilité.\n",
    "\n",
    "**Nous voudrions présenter tes résultats lors de la prochaine réunion de COPIL. Cela permettrait de montrer nos progrès. Je peux t’épargner le travail d’une présentation par slides, il me faut juste un notebook que tu présenteras à l’assemblée pour expliquer ta démarche.**”"
   ]
  },
  {
   "cell_type": "code",
   "execution_count": 223,
   "id": "b0566ea7",
   "metadata": {},
   "outputs": [],
   "source": [
    "import pandas as pd\n",
    "import numpy as np\n",
    "import matplotlib.pyplot as plt\n",
    "import seaborn as sns"
   ]
  },
  {
   "cell_type": "code",
   "execution_count": 224,
   "id": "732fa9e9",
   "metadata": {},
   "outputs": [
    {
     "name": "stderr",
     "output_type": "stream",
     "text": [
      "C:\\Users\\utilisateur\\anaconda3\\lib\\site-packages\\openpyxl\\worksheet\\_reader.py:312: UserWarning: Unknown extension is not supported and will be removed\n",
      "  warn(msg)\n"
     ]
    }
   ],
   "source": [
    "df_erp = pd.read_excel('data/1.xlsx')\n",
    "df_inter = pd.read_excel('data/2.xlsx')\n",
    "df_sku = pd.read_excel('data/3.xlsx')"
   ]
  },
  {
   "cell_type": "code",
   "execution_count": 225,
   "id": "77fc8f03",
   "metadata": {},
   "outputs": [
    {
     "data": {
      "text/html": [
       "<div>\n",
       "<style scoped>\n",
       "    .dataframe tbody tr th:only-of-type {\n",
       "        vertical-align: middle;\n",
       "    }\n",
       "\n",
       "    .dataframe tbody tr th {\n",
       "        vertical-align: top;\n",
       "    }\n",
       "\n",
       "    .dataframe thead th {\n",
       "        text-align: right;\n",
       "    }\n",
       "</style>\n",
       "<table border=\"1\" class=\"dataframe\">\n",
       "  <thead>\n",
       "    <tr style=\"text-align: right;\">\n",
       "      <th></th>\n",
       "      <th>product_id</th>\n",
       "      <th>onsale_web</th>\n",
       "      <th>price</th>\n",
       "      <th>stock_quantity</th>\n",
       "      <th>stock_status</th>\n",
       "    </tr>\n",
       "  </thead>\n",
       "  <tbody>\n",
       "    <tr>\n",
       "      <th>0</th>\n",
       "      <td>3847</td>\n",
       "      <td>1</td>\n",
       "      <td>24.2</td>\n",
       "      <td>0</td>\n",
       "      <td>outofstock</td>\n",
       "    </tr>\n",
       "    <tr>\n",
       "      <th>1</th>\n",
       "      <td>3849</td>\n",
       "      <td>1</td>\n",
       "      <td>34.3</td>\n",
       "      <td>0</td>\n",
       "      <td>outofstock</td>\n",
       "    </tr>\n",
       "    <tr>\n",
       "      <th>2</th>\n",
       "      <td>3850</td>\n",
       "      <td>1</td>\n",
       "      <td>20.8</td>\n",
       "      <td>0</td>\n",
       "      <td>outofstock</td>\n",
       "    </tr>\n",
       "    <tr>\n",
       "      <th>3</th>\n",
       "      <td>4032</td>\n",
       "      <td>1</td>\n",
       "      <td>14.1</td>\n",
       "      <td>0</td>\n",
       "      <td>outofstock</td>\n",
       "    </tr>\n",
       "    <tr>\n",
       "      <th>4</th>\n",
       "      <td>4039</td>\n",
       "      <td>1</td>\n",
       "      <td>46.0</td>\n",
       "      <td>0</td>\n",
       "      <td>outofstock</td>\n",
       "    </tr>\n",
       "  </tbody>\n",
       "</table>\n",
       "</div>"
      ],
      "text/plain": [
       "   product_id  onsale_web  price  stock_quantity stock_status\n",
       "0        3847           1   24.2               0   outofstock\n",
       "1        3849           1   34.3               0   outofstock\n",
       "2        3850           1   20.8               0   outofstock\n",
       "3        4032           1   14.1               0   outofstock\n",
       "4        4039           1   46.0               0   outofstock"
      ]
     },
     "execution_count": 225,
     "metadata": {},
     "output_type": "execute_result"
    }
   ],
   "source": [
    "df_erp.head()"
   ]
  },
  {
   "cell_type": "code",
   "execution_count": 226,
   "id": "6622406f",
   "metadata": {},
   "outputs": [
    {
     "data": {
      "text/plain": [
       "(825, 6)"
      ]
     },
     "execution_count": 226,
     "metadata": {},
     "output_type": "execute_result"
    }
   ],
   "source": [
    "df_merge = pd.merge(df_erp, df_inter, on='product_id', how=\"left\")\n",
    "df_merge.shape"
   ]
  },
  {
   "cell_type": "code",
   "execution_count": 227,
   "id": "1d19980c",
   "metadata": {},
   "outputs": [
    {
     "data": {
      "text/plain": [
       "Index(['sku', 'virtual', 'downloadable', 'rating_count', 'average_rating',\n",
       "       'total_sales', 'tax_status', 'tax_class', 'post_author', 'post_date',\n",
       "       'post_date_gmt', 'post_content', 'post_title', 'post_excerpt',\n",
       "       'post_status', 'comment_status', 'ping_status', 'post_password',\n",
       "       'post_name', 'post_modified', 'post_modified_gmt',\n",
       "       'post_content_filtered', 'post_parent', 'guid', 'menu_order',\n",
       "       'post_type', 'post_mime_type', 'comment_count'],\n",
       "      dtype='object')"
      ]
     },
     "execution_count": 227,
     "metadata": {},
     "output_type": "execute_result"
    }
   ],
   "source": [
    "df_merge.rename(columns={'id_web': 'sku'}, inplace=True)\n",
    "df_sku.columns"
   ]
  },
  {
   "cell_type": "code",
   "execution_count": 228,
   "id": "868558e1",
   "metadata": {},
   "outputs": [],
   "source": [
    "df_merge = pd.merge(df_merge, df_sku, on='sku', how=\"left\")\n",
    "df_merge.drop_duplicates(subset=['sku'], keep='first', inplace=True)"
   ]
  },
  {
   "cell_type": "code",
   "execution_count": 229,
   "id": "07f6587b",
   "metadata": {},
   "outputs": [
    {
     "data": {
      "text/plain": [
       "(735, 33)"
      ]
     },
     "execution_count": 229,
     "metadata": {},
     "output_type": "execute_result"
    }
   ],
   "source": [
    "df_merge.shape"
   ]
  },
  {
   "cell_type": "markdown",
   "id": "90dce629",
   "metadata": {},
   "source": [
    "<span style=\"color: orange;\">Maintenant que nous avons fusionnés nos Dataframe, nous allons rajouter une nouvelle colonne **Chiffre d'affaire**</span>"
   ]
  },
  {
   "cell_type": "code",
   "execution_count": 230,
   "id": "c604f7ba",
   "metadata": {},
   "outputs": [],
   "source": [
    "df_merge[\"CA\"] = df_merge[\"total_sales\"] * df_merge[\"price\"]\n",
    "df_merge[\"CA\"] = df_merge[\"CA\"].astype(float)"
   ]
  },
  {
   "cell_type": "code",
   "execution_count": 231,
   "id": "7b538b1f",
   "metadata": {},
   "outputs": [
    {
     "data": {
      "text/plain": [
       "0       145.2\n",
       "2         0.0\n",
       "4         0.0\n",
       "6        42.3\n",
       "8         0.0\n",
       "        ...  \n",
       "6794      0.0\n",
       "6796      0.0\n",
       "9178      0.0\n",
       "9180      NaN\n",
       "9181      0.0\n",
       "Name: CA, Length: 735, dtype: float64"
      ]
     },
     "execution_count": 231,
     "metadata": {},
     "output_type": "execute_result"
    }
   ],
   "source": [
    "df_merge[\"CA\"]"
   ]
  },
  {
   "cell_type": "code",
   "execution_count": 232,
   "id": "29ebe7f0",
   "metadata": {},
   "outputs": [
    {
     "name": "stdout",
     "output_type": "stream",
     "text": [
      "Le chiffre d'affaire total est de 70568.6 €\n"
     ]
    }
   ],
   "source": [
    "ca_total = df_merge['CA'].sum()\n",
    "\n",
    "print(f\"Le chiffre d'affaire total est de {ca_total} €\")"
   ]
  },
  {
   "cell_type": "code",
   "execution_count": 233,
   "id": "8d880113",
   "metadata": {},
   "outputs": [],
   "source": [
    "df_merge.to_excel('data/data_produit.xlsx', index=False)"
   ]
  },
  {
   "cell_type": "markdown",
   "id": "90dce629",
   "metadata": {},
   "source": [
    "<span style=\"color: orange;\">Nous allons maintenant vérifier les **Outliers** et les **Valeurs Manquantes** afin d'avoir le Dataframe le plus pertinent possible.</span>"
   ]
  },
  {
   "cell_type": "code",
   "execution_count": 234,
   "id": "14b85f50",
   "metadata": {},
   "outputs": [
    {
     "data": {
      "text/plain": [
       "product_id                        int64\n",
       "onsale_web                        int64\n",
       "price                           float64\n",
       "stock_quantity                    int64\n",
       "stock_status                     object\n",
       "sku                              object\n",
       "virtual                         float64\n",
       "downloadable                    float64\n",
       "rating_count                    float64\n",
       "average_rating                  float64\n",
       "total_sales                     float64\n",
       "tax_status                       object\n",
       "tax_class                       float64\n",
       "post_author                     float64\n",
       "post_date                datetime64[ns]\n",
       "post_date_gmt            datetime64[ns]\n",
       "post_content                    float64\n",
       "post_title                       object\n",
       "post_excerpt                     object\n",
       "post_status                      object\n",
       "comment_status                   object\n",
       "ping_status                      object\n",
       "post_password                   float64\n",
       "post_name                        object\n",
       "post_modified            datetime64[ns]\n",
       "post_modified_gmt        datetime64[ns]\n",
       "post_content_filtered           float64\n",
       "post_parent                     float64\n",
       "guid                             object\n",
       "menu_order                      float64\n",
       "post_type                        object\n",
       "post_mime_type                   object\n",
       "comment_count                   float64\n",
       "CA                              float64\n",
       "dtype: object"
      ]
     },
     "execution_count": 234,
     "metadata": {},
     "output_type": "execute_result"
    }
   ],
   "source": [
    "df_merge.dtypes"
   ]
  },
  {
   "cell_type": "code",
   "execution_count": 235,
   "id": "e8f2e28a",
   "metadata": {},
   "outputs": [
    {
     "data": {
      "image/png": "[encoded data removed]",
      "text/plain": [
       "<Figure size 720x360 with 3 Axes>"
      ]
     },
     "metadata": {},
     "output_type": "display_data"
    }
   ],
   "source": [
    "names = ['price', 'total_sales', 'CA']\n",
    "\n",
    "\n",
    "fig, axes = plt.subplots(1,len(names), figsize=(10,5))\n",
    "\n",
    "for i,t in enumerate(names):\n",
    "    sns.boxplot(data=df_merge, y=t, ax=axes[i % len(names)])\n",
    "\n",
    "axes[0].set_title(\"Ensemble des boites à moustaches concernant le chiffre d'affaire\")\n",
    "\n",
    "plt.tight_layout()\n",
    "plt.show()"
   ]
  },
  {
   "cell_type": "markdown",
   "id": "8939bd0c",
   "metadata": {},
   "source": [
    "<span style=\"color: orange;\">Après l'études des différents prix, il est difficile de trouver des **Outliers aberrant** étant donné que les seuls outliers sont des valeurs **atypiques**.</span>"
   ]
  },
  {
   "cell_type": "markdown",
   "id": "20f8b26c",
   "metadata": {},
   "source": [
    "## Conclusion\n",
    "\n",
    "<span style=\"color: lightgreen;\">Nous pouvons conclure notre étude comme quoi l'ensemble des prix semble correct. Si nous voulons poursuivre l'étude, il serait pertinent de faire différents graphiques sur l'évolution du chiffre d'affaires et le nombre de ventes sur les nouveaux produits ainsi qu'un nettoyage du Dataframe à son maximum.</span>"
   ]
  }
 ],
 "metadata": {
  "kernelspec": {
   "display_name": "Python 3",
   "language": "python",
   "name": "python3"
  },
  "language_info": {
   "codemirror_mode": {
    "name": "ipython",
    "version": 3
   },
   "file_extension": ".py",
   "mimetype": "text/x-python",
   "name": "python",
   "nbconvert_exporter": "python",
   "pygments_lexer": "ipython3",
   "version": "3.8.8"
  }
 },
 "nbformat": 4,
 "nbformat_minor": 5
}
